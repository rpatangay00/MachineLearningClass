{
  "nbformat": 4,
  "nbformat_minor": 0,
  "metadata": {
    "colab": {
      "provenance": []
    },
    "kernelspec": {
      "name": "python3",
      "display_name": "Python 3"
    },
    "language_info": {
      "name": "python"
    }
  },
  "cells": [
    {
      "cell_type": "markdown",
      "source": [
        "**ML with SKLearn Assignment**\n",
        "\n",
        "Rikita Patangay\n",
        "\n",
        "Due Sunday 11/6\n"
      ],
      "metadata": {
        "id": "Pii3sA1G64gC"
      }
    },
    {
      "cell_type": "markdown",
      "source": [
        "**Reading in the data**\n",
        "\n",
        "First we have to read in the data and save Auto.csv into pandas dataframe."
      ],
      "metadata": {
        "id": "Bh5uluq07Dve"
      }
    },
    {
      "cell_type": "code",
      "execution_count": 7,
      "metadata": {
        "colab": {
          "base_uri": "https://localhost:8080/"
        },
        "id": "EGnnOCvWAXjc",
        "outputId": "b3b4190c-ad81-4de5-9fa2-ceed49584c99"
      },
      "outputs": [
        {
          "output_type": "stream",
          "name": "stdout",
          "text": [
            "    mpg  cylinders  displacement  horsepower  weight  acceleration  year  \\\n",
            "0  18.0          8         307.0         130    3504          12.0  70.0   \n",
            "1  15.0          8         350.0         165    3693          11.5  70.0   \n",
            "2  18.0          8         318.0         150    3436          11.0  70.0   \n",
            "3  16.0          8         304.0         150    3433          12.0  70.0   \n",
            "4  17.0          8         302.0         140    3449           NaN  70.0   \n",
            "\n",
            "   origin                       name  \n",
            "0       1  chevrolet chevelle malibu  \n",
            "1       1          buick skylark 320  \n",
            "2       1         plymouth satellite  \n",
            "3       1              amc rebel sst  \n",
            "4       1                ford torino  \n",
            "\n",
            "Dimensions of data frame: (392, 9)\n"
          ]
        }
      ],
      "source": [
        "import pandas as pd\n",
        "\n",
        "df = pd.read_csv('Auto.csv')\n",
        "\n",
        "print(df.head())\n",
        "print('\\nDimensions of data frame:', df.shape)"
      ]
    },
    {
      "cell_type": "markdown",
      "source": [
        "df = df.drop(columns=['name','mpg'])\n",
        "print(df.head())\n"
      ],
      "metadata": {
        "id": "pb7b_XRHLuMo"
      }
    },
    {
      "cell_type": "markdown",
      "source": [
        "**Data exploration**"
      ],
      "metadata": {
        "id": "JF6dyeYP7THa"
      }
    },
    {
      "cell_type": "code",
      "source": [
        "print('\\nDescribe  mpg, weight, and year:\\n', df.loc[:, ['mpg', 'weight', 'year']].describe())\n",
        "\n",
        "print('\\nRange of mpg:\\t\\t', df['mpg'].max() - df['mpg'].min())\n",
        "print('Range of weight:\\t', df['weight'].max() - df['weight'].min())\n",
        "print('Range of year:\\t\\t', df['year'].max() - df['year'].min())\n",
        "\n",
        "print('\\nMean of mpg:\\t', df['mpg'].mean())\n",
        "print('Mean of weight:\\t', df['weight'].mean())\n",
        "print('Mean of year:\\t', df['year'].mean())"
      ],
      "metadata": {
        "colab": {
          "base_uri": "https://localhost:8080/"
        },
        "id": "2bPEn1CQK7Wq",
        "outputId": "ad59a427-c280-44d8-9339-1dfc9c9ebd45"
      },
      "execution_count": 8,
      "outputs": [
        {
          "output_type": "stream",
          "name": "stdout",
          "text": [
            "\n",
            "Describe  mpg, weight, and year:\n",
            "               mpg       weight        year\n",
            "count  392.000000   392.000000  390.000000\n",
            "mean    23.445918  2977.584184   76.010256\n",
            "std      7.805007   849.402560    3.668093\n",
            "min      9.000000  1613.000000   70.000000\n",
            "25%     17.000000  2225.250000   73.000000\n",
            "50%     22.750000  2803.500000   76.000000\n",
            "75%     29.000000  3614.750000   79.000000\n",
            "max     46.600000  5140.000000   82.000000\n",
            "\n",
            "Range of mpg:\t\t 37.6\n",
            "Range of weight:\t 3527\n",
            "Range of year:\t\t 12.0\n",
            "\n",
            "Mean of mpg:\t 23.445918367346938\n",
            "Mean of weight:\t 2977.5841836734694\n",
            "Mean of year:\t 76.01025641025642\n"
          ]
        }
      ]
    },
    {
      "cell_type": "markdown",
      "source": [
        "**What data types do we see?**"
      ],
      "metadata": {
        "id": "F5DC2-JC7Yi1"
      }
    },
    {
      "cell_type": "code",
      "source": [
        "df.dtypes\n"
      ],
      "metadata": {
        "colab": {
          "base_uri": "https://localhost:8080/"
        },
        "id": "bqI6oKf2LVAS",
        "outputId": "cff05033-b7db-45bd-9d75-4da4656b0e33"
      },
      "execution_count": 9,
      "outputs": [
        {
          "output_type": "execute_result",
          "data": {
            "text/plain": [
              "mpg             float64\n",
              "cylinders         int64\n",
              "displacement    float64\n",
              "horsepower        int64\n",
              "weight            int64\n",
              "acceleration    float64\n",
              "year            float64\n",
              "origin            int64\n",
              "name             object\n",
              "dtype: object"
            ]
          },
          "metadata": {},
          "execution_count": 9
        }
      ]
    },
    {
      "cell_type": "markdown",
      "source": [
        "**Categorical data visualization**"
      ],
      "metadata": {
        "id": "PoVVWl1s7dXJ"
      }
    },
    {
      "cell_type": "code",
      "source": [
        "df.cylinders = df.cylinders.astype('category').cat.codes\n",
        "df = df.astype({\"origin\":'category'})\n",
        "df.dtypes\n"
      ],
      "metadata": {
        "colab": {
          "base_uri": "https://localhost:8080/"
        },
        "id": "KVAs8U_qLaE6",
        "outputId": "fbe4005c-4f53-4079-e410-c94932bd9eca"
      },
      "execution_count": 10,
      "outputs": [
        {
          "output_type": "execute_result",
          "data": {
            "text/plain": [
              "mpg              float64\n",
              "cylinders           int8\n",
              "displacement     float64\n",
              "horsepower         int64\n",
              "weight             int64\n",
              "acceleration     float64\n",
              "year             float64\n",
              "origin          category\n",
              "name              object\n",
              "dtype: object"
            ]
          },
          "metadata": {},
          "execution_count": 10
        }
      ]
    },
    {
      "cell_type": "markdown",
      "source": [
        "NAs"
      ],
      "metadata": {
        "id": "EykCEFXT7nXv"
      }
    },
    {
      "cell_type": "code",
      "source": [
        "df.isna().sum()\n"
      ],
      "metadata": {
        "colab": {
          "base_uri": "https://localhost:8080/"
        },
        "id": "i7CvWGo6Ldz3",
        "outputId": "7ec26988-a3d2-4cad-b778-460624bdae6f"
      },
      "execution_count": 11,
      "outputs": [
        {
          "output_type": "execute_result",
          "data": {
            "text/plain": [
              "mpg             0\n",
              "cylinders       0\n",
              "displacement    0\n",
              "horsepower      0\n",
              "weight          0\n",
              "acceleration    1\n",
              "year            2\n",
              "origin          0\n",
              "name            0\n",
              "dtype: int64"
            ]
          },
          "metadata": {},
          "execution_count": 11
        }
      ]
    },
    {
      "cell_type": "markdown",
      "source": [
        "**Dropping the NAs**\n",
        "\n",
        "There are 3 nas we will drop them from the data (Acceleration(1)Year(2))"
      ],
      "metadata": {
        "id": "Lki10HoL7pli"
      }
    },
    {
      "cell_type": "code",
      "source": [
        "df = df.dropna()\n",
        "print('\\nDimensions of data frame:', df.shape)"
      ],
      "metadata": {
        "colab": {
          "base_uri": "https://localhost:8080/"
        },
        "id": "QWvpsFmXLkSs",
        "outputId": "18d968a4-1f34-4c6d-9ab0-fc90839db1c7"
      },
      "execution_count": 12,
      "outputs": [
        {
          "output_type": "stream",
          "name": "stdout",
          "text": [
            "\n",
            "Dimensions of data frame: (389, 9)\n"
          ]
        }
      ]
    },
    {
      "cell_type": "code",
      "source": [
        "import numpy as np\n",
        "avg = df.mpg.mean()\n",
        "df['mpg_high'] = np.where(df.mpg > avg, 1, 0)"
      ],
      "metadata": {
        "id": "gUcOtTBeLomn"
      },
      "execution_count": 28,
      "outputs": []
    },
    {
      "cell_type": "markdown",
      "source": [
        "**Modify the data into columns**\n"
      ],
      "metadata": {
        "id": "yRM4ub7v8DfY"
      }
    },
    {
      "cell_type": "code",
      "source": [
        "df = df.drop(columns=['name','mpg'])\n",
        "print(df.head())"
      ],
      "metadata": {
        "colab": {
          "base_uri": "https://localhost:8080/"
        },
        "id": "l4lOFVF98BxS",
        "outputId": "20f697e3-6a6e-4e9e-a6d0-8da140789288"
      },
      "execution_count": 29,
      "outputs": [
        {
          "output_type": "stream",
          "name": "stdout",
          "text": [
            "   cylinders  displacement  horsepower  weight  acceleration  year origin  \\\n",
            "0          4         307.0         130    3504          12.0  70.0      1   \n",
            "1          4         350.0         165    3693          11.5  70.0      1   \n",
            "2          4         318.0         150    3436          11.0  70.0      1   \n",
            "3          4         304.0         150    3433          12.0  70.0      1   \n",
            "6          4         454.0         220    4354           9.0  70.0      1   \n",
            "\n",
            "   mpg_high  \n",
            "0         0  \n",
            "1         0  \n",
            "2         0  \n",
            "3         0  \n",
            "6         0  \n"
          ]
        }
      ]
    },
    {
      "cell_type": "markdown",
      "source": [
        "**Graph Visualization**"
      ],
      "metadata": {
        "id": "ITNyEiO28G4X"
      }
    },
    {
      "cell_type": "code",
      "source": [
        "import seaborn as sb\n",
        "\n",
        "sb.catplot(x = 'mpg_high', kind = 'count', data = df)"
      ],
      "metadata": {
        "colab": {
          "base_uri": "https://localhost:8080/",
          "height": 387
        },
        "id": "egUeu73uMMJc",
        "outputId": "e445aef2-7a06-4298-e033-997cb4fa9ffc"
      },
      "execution_count": 27,
      "outputs": [
        {
          "output_type": "execute_result",
          "data": {
            "text/plain": [
              "<seaborn.axisgrid.FacetGrid at 0x7f35a98bae90>"
            ]
          },
          "metadata": {},
          "execution_count": 27
        },
        {
          "output_type": "display_data",
          "data": {
            "text/plain": [
              "<Figure size 360x360 with 1 Axes>"
            ],
            "image/png": "[encoded data removed]"
          },
          "metadata": {
            "needs_background": "light"
          }
        }
      ]
    },
    {
      "cell_type": "markdown",
      "source": [
        "**Horsepower vs. weight**"
      ],
      "metadata": {
        "id": "tCbRWoCE8j_x"
      }
    },
    {
      "cell_type": "code",
      "source": [
        "sb.relplot(x = 'horsepower', y = 'weight', data = df, hue = df.mpg_high)\n"
      ],
      "metadata": {
        "id": "3i33MLe14LkP",
        "outputId": "6faa502b-05db-4cf1-e43e-c0e9765275fb",
        "colab": {
          "base_uri": "https://localhost:8080/",
          "height": 387
        }
      },
      "execution_count": 15,
      "outputs": [
        {
          "output_type": "execute_result",
          "data": {
            "text/plain": [
              "<seaborn.axisgrid.FacetGrid at 0x7f35aafcd050>"
            ]
          },
          "metadata": {},
          "execution_count": 15
        },
        {
          "output_type": "display_data",
          "data": {
            "text/plain": [
              "<Figure size 417.25x360 with 1 Axes>"
            ],
            "image/png": "[encoded data removed]"
          },
          "metadata": {
            "needs_background": "light"
          }
        }
      ]
    },
    {
      "cell_type": "markdown",
      "source": [
        "**mpg_high vs. weight**"
      ],
      "metadata": {
        "id": "rAcmCCpq8qjZ"
      }
    },
    {
      "cell_type": "code",
      "source": [
        "sb.boxplot(x = 'mpg_high', y = 'weight', data = df)\n"
      ],
      "metadata": {
        "colab": {
          "base_uri": "https://localhost:8080/",
          "height": 298
        },
        "id": "a2Y0Kv3v4mz_",
        "outputId": "4a0f1bd8-40f0-4e6a-90b6-2d33d04e0522"
      },
      "execution_count": 16,
      "outputs": [
        {
          "output_type": "execute_result",
          "data": {
            "text/plain": [
              "<matplotlib.axes._subplots.AxesSubplot at 0x7f35aaad21d0>"
            ]
          },
          "metadata": {},
          "execution_count": 16
        },
        {
          "output_type": "display_data",
          "data": {
            "text/plain": [
              "<Figure size 432x288 with 1 Axes>"
            ],
            "image/png": "[encoded data removed]"
          },
          "metadata": {
            "needs_background": "light"
          }
        }
      ]
    },
    {
      "cell_type": "markdown",
      "source": [
        "**Splitting train and test**"
      ],
      "metadata": {
        "id": "LP82xdov81Mz"
      }
    },
    {
      "cell_type": "code",
      "source": [
        "import sklearn\n",
        "from sklearn.model_selection import train_test_split\n",
        "\n",
        "X = df.iloc[:, 0:6]\n",
        "y = df.iloc[:, 7]\n",
        "\n",
        "X_train, X_test, y_train, y_test = train_test_split(X, y, test_size = 0.2, random_state = 1234)\n",
        "\n",
        "print('Train size:', X_train.shape)\n",
        "print('Test size:', X_test.shape)"
      ],
      "metadata": {
        "colab": {
          "base_uri": "https://localhost:8080/"
        },
        "id": "nXdnZ-5w4qNf",
        "outputId": "c030c5a6-2710-4038-b848-0770a6b1c1a2"
      },
      "execution_count": 17,
      "outputs": [
        {
          "output_type": "stream",
          "name": "stdout",
          "text": [
            "train size: (311, 6)\n",
            "test size: (78, 6)\n"
          ]
        }
      ]
    },
    {
      "cell_type": "markdown",
      "source": [
        "**Logistic Regression**\n",
        "\n",
        "We will now perform logisic regression on the train data."
      ],
      "metadata": {
        "id": "Mwljw6mpAAs6"
      }
    },
    {
      "cell_type": "code",
      "source": [
        "from sklearn.linear_model import LogisticRegression\n",
        "\n",
        "logReg = LogisticRegression(max_iter=10000)\n",
        "LogisticReg = LogisticRegression(solver = 'lbfgs')\n",
        "logReg.fit(X_train, y_train)\n",
        "logReg.score(X_train, y_train)"
      ],
      "metadata": {
        "colab": {
          "base_uri": "https://localhost:8080/"
        },
        "id": "v71XDNJW9Z9h",
        "outputId": "0bacfcc0-7b94-4fc7-e501-9bc3f429a3a8"
      },
      "execution_count": 32,
      "outputs": [
        {
          "output_type": "execute_result",
          "data": {
            "text/plain": [
              "0.7620578778135049"
            ]
          },
          "metadata": {},
          "execution_count": 32
        }
      ]
    },
    {
      "cell_type": "markdown",
      "source": [
        "**Predict**"
      ],
      "metadata": {
        "id": "c7PeessGALJB"
      }
    },
    {
      "cell_type": "code",
      "source": [
        "predLR = logReg.predict(X_test)\n"
      ],
      "metadata": {
        "id": "utmb4pYF-NpE"
      },
      "execution_count": 33,
      "outputs": []
    },
    {
      "cell_type": "markdown",
      "source": [
        "**Evaluate**"
      ],
      "metadata": {
        "id": "1_p42kBwAOGB"
      }
    },
    {
      "cell_type": "code",
      "source": [
        "from sklearn.metrics import accuracy_score, precision_score, recall_score, f1_score\n",
        "\n",
        "accuracyLR = accuracy_score(y_test, predLR)\n",
        "precisionLR = precision_score(y_test, predLR, average='micro')\n",
        "recallLR = recall_score(y_test, predLR, average='micro')\n",
        "f1LR = f1_score(y_test, predLR, average='micro')\n",
        "\n",
        "print('Accuracy score: ', accuracyLR)\n",
        "print('Precision score: ', precisionLR)\n",
        "print('Recall score: ', recallLR)\n",
        "print('f1 score: ', f1LR)"
      ],
      "metadata": {
        "colab": {
          "base_uri": "https://localhost:8080/"
        },
        "id": "N1Dm9sfK-Qq8",
        "outputId": "7d2ec94c-8416-4473-d671-9eb4263c834c"
      },
      "execution_count": 37,
      "outputs": [
        {
          "output_type": "stream",
          "name": "stdout",
          "text": [
            "accuracy score:  0.7692307692307693\n",
            "precision score:  0.7692307692307693\n",
            "recall score:  0.7692307692307693\n",
            "f1 score:  0.7692307692307693\n"
          ]
        }
      ]
    },
    {
      "cell_type": "markdown",
      "source": [
        "**Decision Tree**\n",
        "\n",
        "Train a decision tree."
      ],
      "metadata": {
        "id": "OpMY0GvDAVMd"
      }
    },
    {
      "cell_type": "code",
      "source": [
        "from sklearn.tree import DecisionTreeClassifier\n",
        "\n",
        "dTree = DecisionTreeClassifier()\n",
        "dTree.fit(X_train, y_train)"
      ],
      "metadata": {
        "colab": {
          "base_uri": "https://localhost:8080/"
        },
        "id": "vBFOIKYN-1PL",
        "outputId": "45894e22-ee50-4c8d-f2d6-7795e1ce60da"
      },
      "execution_count": 38,
      "outputs": [
        {
          "output_type": "execute_result",
          "data": {
            "text/plain": [
              "DecisionTreeClassifier()"
            ]
          },
          "metadata": {},
          "execution_count": 38
        }
      ]
    },
    {
      "cell_type": "markdown",
      "source": [
        "**Make predictions**"
      ],
      "metadata": {
        "id": "oq2AHoxlAbuw"
      }
    },
    {
      "cell_type": "code",
      "source": [
        "predDT = dTree.predict(X_test)\n"
      ],
      "metadata": {
        "id": "1OzWaNmZ-6LA"
      },
      "execution_count": 39,
      "outputs": []
    },
    {
      "cell_type": "markdown",
      "source": [
        "**Evaluate**"
      ],
      "metadata": {
        "id": "9TYgdNBKAd3a"
      }
    },
    {
      "cell_type": "code",
      "source": [
        "accuracyDT = accuracy_score(y_test, predDT)\n",
        "precisionDT = precision_score(y_test, predDT, average='micro')\n",
        "recallDT = recall_score(y_test, predDT, average='micro')\n",
        "f1DT = f1_score(y_test, predDT, average='micro')\n",
        "\n",
        "print('Accuracy score: ', accuracyDT)\n",
        "print('Precision score: ', precisionDT)\n",
        "print('Recall score: ', recallDT)\n",
        "print('f1 score: ', f1DT)"
      ],
      "metadata": {
        "colab": {
          "base_uri": "https://localhost:8080/"
        },
        "id": "h8rundA6-8k-",
        "outputId": "c7e131dc-86ed-42af-ee0d-1092425ca894"
      },
      "execution_count": 43,
      "outputs": [
        {
          "output_type": "stream",
          "name": "stdout",
          "text": [
            "accuracy score:  0.8333333333333334\n",
            "precision score:  0.8333333333333334\n",
            "recall score:  0.8333333333333334\n",
            "f1 score:  0.8333333333333334\n"
          ]
        }
      ]
    },
    {
      "cell_type": "markdown",
      "source": [
        "**Neural Network**\n",
        "\n",
        "Make the data normal."
      ],
      "metadata": {
        "id": "u1mwDJ2AAhcO"
      }
    },
    {
      "cell_type": "code",
      "source": [
        "from sklearn import preprocessing\n",
        "\n",
        "scaler = preprocessing.StandardScaler().fit(X_train)\n",
        "\n",
        "X_train_scaled = scaler.transform(X_train)\n",
        "X_test_scaled = scaler.transform(X_test)"
      ],
      "metadata": {
        "id": "tJ1vKO-X_JYM"
      },
      "execution_count": 45,
      "outputs": []
    },
    {
      "cell_type": "markdown",
      "source": [
        "**Using Hidden layer**\n",
        "\n",
        "Train the data with hidden Layer size (5,2)."
      ],
      "metadata": {
        "id": "eapdLpQ2ApwM"
      }
    },
    {
      "cell_type": "code",
      "source": [
        "from sklearn.neural_network import MLPClassifier\n",
        "\n",
        "nn1 = MLPClassifier(solver='lbfgs', hidden_layer_sizes=(5, 2), max_iter=500, random_state=1234)\n",
        "nn1.fit(X_train_scaled, y_train)"
      ],
      "metadata": {
        "colab": {
          "base_uri": "https://localhost:8080/"
        },
        "id": "TXKa3sZ0_MTM",
        "outputId": "7cd02e13-52ba-4cd6-813c-222e2b914c9a"
      },
      "execution_count": 46,
      "outputs": [
        {
          "output_type": "execute_result",
          "data": {
            "text/plain": [
              "MLPClassifier(hidden_layer_sizes=(5, 2), max_iter=500, random_state=1234,\n",
              "              solver='lbfgs')"
            ]
          },
          "metadata": {},
          "execution_count": 46
        }
      ]
    },
    {
      "cell_type": "markdown",
      "source": [
        "**Predict**"
      ],
      "metadata": {
        "id": "UHsG8wBtA6xo"
      }
    },
    {
      "cell_type": "code",
      "source": [
        "predNN1 = nn1.predict(X_test_scaled)\n"
      ],
      "metadata": {
        "id": "gTzzHLCD_OsT"
      },
      "execution_count": 47,
      "outputs": []
    },
    {
      "cell_type": "markdown",
      "source": [
        "**Output the result (Confusion Matrix)**"
      ],
      "metadata": {
        "id": "AXGjTgUfA8m_"
      }
    },
    {
      "cell_type": "code",
      "source": [
        "from sklearn.metrics import confusion_matrix\n",
        "\n",
        "accuracyNN1 = accuracy_score(y_test, predNN1)\n",
        "precisionNN1 = precision_score(y_test, predNN1,average='micro')\n",
        "recallNN1 = recall_score(y_test, predNN1,average='micro')\n",
        "f1NN1 = f1_score(y_test, predNN1,average='micro')\n",
        "\n",
        "print('Accuracy score: ', accuracyNN1)\n",
        "print('Precision score: ', precisionNN1)\n",
        "print('Recall score: ', recallNN1)\n",
        "print('f1 score: ', f1NN1)\n",
        "\n",
        "confusion_matrix(y_test, predNN1)"
      ],
      "metadata": {
        "colab": {
          "base_uri": "https://localhost:8080/"
        },
        "id": "9hB4IYRr_Q-o",
        "outputId": "a0c2392e-2b0c-4a99-dce4-a444b029ac0c"
      },
      "execution_count": 49,
      "outputs": [
        {
          "output_type": "stream",
          "name": "stdout",
          "text": [
            "accuracy score:  0.8333333333333334\n",
            "precision score:  0.8333333333333334\n",
            "recall score:  0.8333333333333334\n",
            "f1 score:  0.8333333333333334\n"
          ]
        },
        {
          "output_type": "execute_result",
          "data": {
            "text/plain": [
              "array([[47,  2,  2],\n",
              "       [ 0,  6,  2],\n",
              "       [ 3,  4, 12]])"
            ]
          },
          "metadata": {},
          "execution_count": 49
        }
      ]
    },
    {
      "cell_type": "markdown",
      "source": [
        "**Using hidden layer**\n",
        "\n",
        "Using hidden layer size (4.2), train neural network."
      ],
      "metadata": {
        "id": "NOK3tGQeBEru"
      }
    },
    {
      "cell_type": "code",
      "source": [
        "\n",
        "nn2 = MLPClassifier(solver='lbfgs', hidden_layer_sizes=(4, 2), max_iter=1000, random_state=1234)\n",
        "nn2.fit(X_train_scaled, y_train)"
      ],
      "metadata": {
        "colab": {
          "base_uri": "https://localhost:8080/"
        },
        "id": "MIyDutQN_cIx",
        "outputId": "1faae192-00d5-4dd5-bc8e-ac98f938d67f"
      },
      "execution_count": 54,
      "outputs": [
        {
          "output_type": "execute_result",
          "data": {
            "text/plain": [
              "MLPClassifier(hidden_layer_sizes=(4, 2), max_iter=1000, random_state=1234,\n",
              "              solver='lbfgs')"
            ]
          },
          "metadata": {},
          "execution_count": 54
        }
      ]
    },
    {
      "cell_type": "markdown",
      "source": [
        "# **Predict**"
      ],
      "metadata": {
        "id": "betbF9tNBO72"
      }
    },
    {
      "cell_type": "code",
      "source": [
        "predNN2 = nn2.predict(X_test_scaled)\n"
      ],
      "metadata": {
        "id": "Nf0KuWG7_y-S"
      },
      "execution_count": 55,
      "outputs": []
    },
    {
      "cell_type": "markdown",
      "source": [
        "# **Output the result**"
      ],
      "metadata": {
        "id": "LcxfGgOOBQUF"
      }
    },
    {
      "cell_type": "code",
      "source": [
        "accuracyNN2 = accuracy_score(y_test, predNN2)\n",
        "precisionNN2 = precision_score(y_test, predNN2,average='micro')\n",
        "recallNN2 = recall_score(y_test, predNN2,average='micro')\n",
        "f1NN2 = f1_score(y_test, predNN2,average='micro')\n",
        "\n",
        "print('accuracy score: ', accuracyNN2)\n",
        "print('precision score: ', precisionNN2)\n",
        "print('recall score: ', recallNN2)\n",
        "print('f1 score: ', f1NN2)\n",
        "\n",
        "confusion_matrix(y_test, predNN2)"
      ],
      "metadata": {
        "colab": {
          "base_uri": "https://localhost:8080/"
        },
        "id": "a8dUDzVA_1AJ",
        "outputId": "a5d20b49-9156-4d5d-82cf-6aee7efbeae9"
      },
      "execution_count": 57,
      "outputs": [
        {
          "output_type": "stream",
          "name": "stdout",
          "text": [
            "accuracy score:  0.8589743589743589\n",
            "precision score:  0.8589743589743589\n",
            "recall score:  0.8589743589743589\n",
            "f1 score:  0.8589743589743589\n"
          ]
        },
        {
          "output_type": "execute_result",
          "data": {
            "text/plain": [
              "array([[49,  0,  2],\n",
              "       [ 2,  5,  1],\n",
              "       [ 6,  0, 13]])"
            ]
          },
          "metadata": {},
          "execution_count": 57
        }
      ]
    },
    {
      "cell_type": "markdown",
      "source": [
        "# **Analysis**\n",
        "\n",
        "From what I can see from this data, **Decision Tree** was put to a better use for this data. Decision Tree outperformed Logistic Regression and Neural Network in accuracy and precision. The algorithms had tied when it came to recall. Since neural networks are usually used for more complex sets of data the algorithm was not suitable foe these smaller set of data. \n",
        "\n",
        "I definitely much prefer **SKLearn** to R. I feel that SKLearn in a simpler way, and simpler syntax. I think this is because I have had more experience programming in Python. I really liked using Google Colab for this assignment. I am very familiar with Google apps and I think their interface is pretty straightforward and easy to learn. Before this class I had never heard of it, and I am glad that I have the knowlwdge on how to use it now.\n",
        "\n"
      ],
      "metadata": {
        "id": "pX4XHX8LEPWK"
      }
    }
  ]
}